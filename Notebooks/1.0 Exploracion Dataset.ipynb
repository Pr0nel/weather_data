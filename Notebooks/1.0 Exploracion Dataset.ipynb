{
 "cells": [
  {
   "cell_type": "markdown",
   "id": "2552c042-716e-45c8-a2f4-dbe779d6bd84",
   "metadata": {},
   "source": [
    "# 1.0 Librerias"
   ]
  },
  {
   "cell_type": "code",
   "execution_count": 5,
   "id": "71fe1ecd-9020-4be6-9383-39272ebd9089",
   "metadata": {},
   "outputs": [],
   "source": [
    "import pandas as pd\n",
    "import seaborn as sns\n",
    "#import swifter\n",
    "\n",
    "import matplotlib.pyplot as plt"
   ]
  },
  {
   "cell_type": "markdown",
   "id": "9052ced7-8668-4cf3-8f89-e18cf18f59b8",
   "metadata": {},
   "source": [
    "# 2.0 Datasset"
   ]
  },
  {
   "cell_type": "code",
   "execution_count": 6,
   "id": "7ece69af-d18d-49a1-8892-c80144a9d20b",
   "metadata": {},
   "outputs": [
    {
     "name": "stderr",
     "output_type": "stream",
     "text": [
      "C:\\Users\\PABLO\\AppData\\Local\\Temp\\ipykernel_23352\\1006830650.py:1: DtypeWarning: Columns (2,3,4,5,6,7,9,10,12,13,14,15,16,17,18,19,20,21,22,23,24,25,26,27,28,29,30,31,32,33,34,35,36,37) have mixed types. Specify dtype option on import or set low_memory=False.\n",
      "  df = pd.read_csv('../Data/UNI_EMDI-LabSolar_fd07122022.txt',sep='\\t')\n"
     ]
    }
   ],
   "source": [
    "df = pd.read_csv('../Data/UNI_EMDI-LabSolar_fd07122022.txt',sep='\\t')"
   ]
  },
  {
   "cell_type": "code",
   "execution_count": 7,
   "id": "3422c826-0920-4027-a080-58569cae8700",
   "metadata": {},
   "outputs": [
    {
     "name": "stdout",
     "output_type": "stream",
     "text": [
      "<class 'pandas.core.frame.DataFrame'>\n",
      "RangeIndex: 165493 entries, 0 to 165492\n",
      "Data columns (total 38 columns):\n",
      " #   Column       Non-Null Count   Dtype \n",
      "---  ------       --------------   ----- \n",
      " 0   Unnamed: 0   165493 non-null  object\n",
      " 1   Unnamed: 1   165493 non-null  object\n",
      " 2   Temp         165493 non-null  object\n",
      " 3   Hi           165493 non-null  object\n",
      " 4   Low          165493 non-null  object\n",
      " 5   Out          165493 non-null  object\n",
      " 6   Dew          165493 non-null  object\n",
      " 7   Wind         165493 non-null  object\n",
      " 8   Wind.1       165493 non-null  object\n",
      " 9   Wind.2       165493 non-null  object\n",
      " 10  Hi.1         165493 non-null  object\n",
      " 11  Hi.2         165493 non-null  object\n",
      " 12  Wind.3       165493 non-null  object\n",
      " 13  Heat         165493 non-null  object\n",
      " 14  THW          165493 non-null  object\n",
      " 15  THSW         165493 non-null  object\n",
      " 16  Unnamed: 16  165493 non-null  object\n",
      " 17  Unnamed: 17  165493 non-null  object\n",
      " 18  Rain         165493 non-null  object\n",
      " 19  Solar        165493 non-null  object\n",
      " 20  Solar.1      165493 non-null  object\n",
      " 21  Hi Solar     165493 non-null  object\n",
      " 22  UV           165493 non-null  object\n",
      " 23  UV .1        165493 non-null  object\n",
      " 24  Hi           165493 non-null  object\n",
      " 25  Heat.1       165493 non-null  object\n",
      " 26  Cool         165493 non-null  object\n",
      " 27  In           165493 non-null  object\n",
      " 28  In           165493 non-null  object\n",
      " 29  In .1        165493 non-null  object\n",
      " 30  In .2        165493 non-null  object\n",
      " 31  In .3        165493 non-null  object\n",
      " 32  In Air       165493 non-null  object\n",
      " 33  Unnamed: 33  165493 non-null  object\n",
      " 34  Wind.4       165493 non-null  object\n",
      " 35  Wind.5       165493 non-null  object\n",
      " 36  ISS          165493 non-null  object\n",
      " 37  Arc.         165493 non-null  object\n",
      "dtypes: object(38)\n",
      "memory usage: 48.0+ MB\n"
     ]
    }
   ],
   "source": [
    "df.info()"
   ]
  },
  {
   "cell_type": "code",
   "execution_count": 8,
   "id": "f96d6b16-47e5-4026-8603-63df82b29a56",
   "metadata": {},
   "outputs": [
    {
     "data": {
      "text/html": [
       "<div>\n",
       "<style scoped>\n",
       "    .dataframe tbody tr th:only-of-type {\n",
       "        vertical-align: middle;\n",
       "    }\n",
       "\n",
       "    .dataframe tbody tr th {\n",
       "        vertical-align: top;\n",
       "    }\n",
       "\n",
       "    .dataframe thead th {\n",
       "        text-align: right;\n",
       "    }\n",
       "</style>\n",
       "<table border=\"1\" class=\"dataframe\">\n",
       "  <thead>\n",
       "    <tr style=\"text-align: right;\">\n",
       "      <th></th>\n",
       "      <th>Unnamed: 0</th>\n",
       "      <th>Unnamed: 1</th>\n",
       "      <th>Temp</th>\n",
       "      <th>Hi</th>\n",
       "      <th>Low</th>\n",
       "      <th>Out</th>\n",
       "      <th>Dew</th>\n",
       "      <th>Wind</th>\n",
       "      <th>Wind.1</th>\n",
       "      <th>Wind.2</th>\n",
       "      <th>...</th>\n",
       "      <th>In</th>\n",
       "      <th>In .1</th>\n",
       "      <th>In .2</th>\n",
       "      <th>In .3</th>\n",
       "      <th>In Air</th>\n",
       "      <th>Unnamed: 33</th>\n",
       "      <th>Wind.4</th>\n",
       "      <th>Wind.5</th>\n",
       "      <th>ISS</th>\n",
       "      <th>Arc.</th>\n",
       "    </tr>\n",
       "  </thead>\n",
       "  <tbody>\n",
       "    <tr>\n",
       "      <th>0</th>\n",
       "      <td>Date</td>\n",
       "      <td>Time</td>\n",
       "      <td>Out</td>\n",
       "      <td>Temp</td>\n",
       "      <td>Temp</td>\n",
       "      <td>Hum</td>\n",
       "      <td>Pt.</td>\n",
       "      <td>Speed</td>\n",
       "      <td>Dir</td>\n",
       "      <td>Run</td>\n",
       "      <td>...</td>\n",
       "      <td>Hum</td>\n",
       "      <td>Dew</td>\n",
       "      <td>Heat</td>\n",
       "      <td>EMC</td>\n",
       "      <td>Density</td>\n",
       "      <td>ET</td>\n",
       "      <td>Samp</td>\n",
       "      <td>Tx</td>\n",
       "      <td>Recept</td>\n",
       "      <td>Int.</td>\n",
       "    </tr>\n",
       "    <tr>\n",
       "      <th>1</th>\n",
       "      <td>13/10/19</td>\n",
       "      <td>11:00</td>\n",
       "      <td>18.3</td>\n",
       "      <td>18.4</td>\n",
       "      <td>18.3</td>\n",
       "      <td>78</td>\n",
       "      <td>14.4</td>\n",
       "      <td>1.3</td>\n",
       "      <td>WNW</td>\n",
       "      <td>0.80</td>\n",
       "      <td>...</td>\n",
       "      <td>50</td>\n",
       "      <td>13.6</td>\n",
       "      <td>24.7</td>\n",
       "      <td>9.22</td>\n",
       "      <td>1.1716</td>\n",
       "      <td>0.004</td>\n",
       "      <td>234</td>\n",
       "      <td>1</td>\n",
       "      <td>100.0</td>\n",
       "      <td>10</td>\n",
       "    </tr>\n",
       "    <tr>\n",
       "      <th>2</th>\n",
       "      <td>13/10/19</td>\n",
       "      <td>11:10</td>\n",
       "      <td>18.1</td>\n",
       "      <td>18.3</td>\n",
       "      <td>18.1</td>\n",
       "      <td>79</td>\n",
       "      <td>14.4</td>\n",
       "      <td>1.8</td>\n",
       "      <td>WNW</td>\n",
       "      <td>1.07</td>\n",
       "      <td>...</td>\n",
       "      <td>50</td>\n",
       "      <td>13.6</td>\n",
       "      <td>24.7</td>\n",
       "      <td>9.22</td>\n",
       "      <td>1.1717</td>\n",
       "      <td>0.000</td>\n",
       "      <td>235</td>\n",
       "      <td>1</td>\n",
       "      <td>100.0</td>\n",
       "      <td>10</td>\n",
       "    </tr>\n",
       "    <tr>\n",
       "      <th>3</th>\n",
       "      <td>13/10/19</td>\n",
       "      <td>11:20</td>\n",
       "      <td>18.2</td>\n",
       "      <td>18.2</td>\n",
       "      <td>18.1</td>\n",
       "      <td>79</td>\n",
       "      <td>14.5</td>\n",
       "      <td>1.3</td>\n",
       "      <td>WNW</td>\n",
       "      <td>0.80</td>\n",
       "      <td>...</td>\n",
       "      <td>50</td>\n",
       "      <td>13.6</td>\n",
       "      <td>24.7</td>\n",
       "      <td>9.22</td>\n",
       "      <td>1.1714</td>\n",
       "      <td>0.000</td>\n",
       "      <td>234</td>\n",
       "      <td>1</td>\n",
       "      <td>100.0</td>\n",
       "      <td>10</td>\n",
       "    </tr>\n",
       "    <tr>\n",
       "      <th>4</th>\n",
       "      <td>13/10/19</td>\n",
       "      <td>11:30</td>\n",
       "      <td>18.2</td>\n",
       "      <td>18.3</td>\n",
       "      <td>18.2</td>\n",
       "      <td>79</td>\n",
       "      <td>14.5</td>\n",
       "      <td>1.3</td>\n",
       "      <td>WNW</td>\n",
       "      <td>0.80</td>\n",
       "      <td>...</td>\n",
       "      <td>50</td>\n",
       "      <td>13.7</td>\n",
       "      <td>24.8</td>\n",
       "      <td>9.22</td>\n",
       "      <td>1.1712</td>\n",
       "      <td>0.000</td>\n",
       "      <td>234</td>\n",
       "      <td>1</td>\n",
       "      <td>100.0</td>\n",
       "      <td>10</td>\n",
       "    </tr>\n",
       "  </tbody>\n",
       "</table>\n",
       "<p>5 rows × 38 columns</p>\n",
       "</div>"
      ],
      "text/plain": [
       "  Unnamed: 0 Unnamed: 1  Temp    Hi   Low  Out   Dew   Wind Wind.1 Wind.2  \\\n",
       "0       Date       Time   Out  Temp  Temp  Hum   Pt.  Speed    Dir    Run   \n",
       "1   13/10/19      11:00  18.3  18.4  18.3   78  14.4    1.3    WNW   0.80   \n",
       "2   13/10/19      11:10  18.1  18.3  18.1   79  14.4    1.8    WNW   1.07   \n",
       "3   13/10/19      11:20  18.2  18.2  18.1   79  14.5    1.3    WNW   0.80   \n",
       "4   13/10/19      11:30  18.2  18.3  18.2   79  14.5    1.3    WNW   0.80   \n",
       "\n",
       "   ...   In In .1 In .2 In .3   In Air Unnamed: 33 Wind.4 Wind.5    ISS   Arc.  \n",
       "0  ...  Hum   Dew  Heat   EMC  Density         ET    Samp    Tx   Recept  Int.  \n",
       "1  ...   50  13.6  24.7  9.22   1.1716       0.004    234      1   100.0    10  \n",
       "2  ...   50  13.6  24.7  9.22   1.1717       0.000    235      1   100.0    10  \n",
       "3  ...   50  13.6  24.7  9.22   1.1714       0.000    234      1   100.0    10  \n",
       "4  ...   50  13.7  24.8  9.22   1.1712       0.000    234      1   100.0    10  \n",
       "\n",
       "[5 rows x 38 columns]"
      ]
     },
     "execution_count": 8,
     "metadata": {},
     "output_type": "execute_result"
    }
   ],
   "source": [
    "df.head()"
   ]
  },
  {
   "cell_type": "code",
   "execution_count": 9,
   "id": "d0ac6017-49ef-4717-bf9b-bca48fbb17f8",
   "metadata": {},
   "outputs": [
    {
     "data": {
      "text/html": [
       "<div>\n",
       "<style scoped>\n",
       "    .dataframe tbody tr th:only-of-type {\n",
       "        vertical-align: middle;\n",
       "    }\n",
       "\n",
       "    .dataframe tbody tr th {\n",
       "        vertical-align: top;\n",
       "    }\n",
       "\n",
       "    .dataframe thead th {\n",
       "        text-align: right;\n",
       "    }\n",
       "</style>\n",
       "<table border=\"1\" class=\"dataframe\">\n",
       "  <thead>\n",
       "    <tr style=\"text-align: right;\">\n",
       "      <th></th>\n",
       "      <th>Unnamed: 0</th>\n",
       "      <th>Unnamed: 1</th>\n",
       "      <th>Temp</th>\n",
       "      <th>Hi</th>\n",
       "      <th>Low</th>\n",
       "      <th>Out</th>\n",
       "      <th>Dew</th>\n",
       "      <th>Wind</th>\n",
       "      <th>Wind.1</th>\n",
       "      <th>Wind.2</th>\n",
       "      <th>...</th>\n",
       "      <th>In</th>\n",
       "      <th>In .1</th>\n",
       "      <th>In .2</th>\n",
       "      <th>In .3</th>\n",
       "      <th>In Air</th>\n",
       "      <th>Unnamed: 33</th>\n",
       "      <th>Wind.4</th>\n",
       "      <th>Wind.5</th>\n",
       "      <th>ISS</th>\n",
       "      <th>Arc.</th>\n",
       "    </tr>\n",
       "  </thead>\n",
       "  <tbody>\n",
       "    <tr>\n",
       "      <th>count</th>\n",
       "      <td>165493</td>\n",
       "      <td>165493</td>\n",
       "      <td>165493.0</td>\n",
       "      <td>165493.0</td>\n",
       "      <td>165493.0</td>\n",
       "      <td>165493</td>\n",
       "      <td>165493.0</td>\n",
       "      <td>165493.0</td>\n",
       "      <td>165493</td>\n",
       "      <td>165493.00</td>\n",
       "      <td>...</td>\n",
       "      <td>165493</td>\n",
       "      <td>165493.0</td>\n",
       "      <td>165493.0</td>\n",
       "      <td>165493.00</td>\n",
       "      <td>165493.0000</td>\n",
       "      <td>165493.0</td>\n",
       "      <td>165493</td>\n",
       "      <td>165493</td>\n",
       "      <td>165493.0</td>\n",
       "      <td>165493</td>\n",
       "    </tr>\n",
       "    <tr>\n",
       "      <th>unique</th>\n",
       "      <td>1153</td>\n",
       "      <td>289</td>\n",
       "      <td>374.0</td>\n",
       "      <td>376.0</td>\n",
       "      <td>371.0</td>\n",
       "      <td>101</td>\n",
       "      <td>224.0</td>\n",
       "      <td>26.0</td>\n",
       "      <td>18</td>\n",
       "      <td>33.00</td>\n",
       "      <td>...</td>\n",
       "      <td>77</td>\n",
       "      <td>303.0</td>\n",
       "      <td>459.0</td>\n",
       "      <td>1005.00</td>\n",
       "      <td>1697.0000</td>\n",
       "      <td>51.0</td>\n",
       "      <td>200</td>\n",
       "      <td>4</td>\n",
       "      <td>182.0</td>\n",
       "      <td>4</td>\n",
       "    </tr>\n",
       "    <tr>\n",
       "      <th>top</th>\n",
       "      <td>05/02/20</td>\n",
       "      <td>16:50</td>\n",
       "      <td>15.8</td>\n",
       "      <td>15.9</td>\n",
       "      <td>15.8</td>\n",
       "      <td>89</td>\n",
       "      <td>13.5</td>\n",
       "      <td>0.9</td>\n",
       "      <td>SW</td>\n",
       "      <td>0.54</td>\n",
       "      <td>...</td>\n",
       "      <td>53</td>\n",
       "      <td>14.7</td>\n",
       "      <td>23.8</td>\n",
       "      <td>9.65</td>\n",
       "      <td>1.1737</td>\n",
       "      <td>0.0</td>\n",
       "      <td>234</td>\n",
       "      <td>1</td>\n",
       "      <td>100.0</td>\n",
       "      <td>10</td>\n",
       "    </tr>\n",
       "    <tr>\n",
       "      <th>freq</th>\n",
       "      <td>191</td>\n",
       "      <td>1151</td>\n",
       "      <td>2002.0</td>\n",
       "      <td>1987.0</td>\n",
       "      <td>2038.0</td>\n",
       "      <td>10137</td>\n",
       "      <td>2591.0</td>\n",
       "      <td>44477.0</td>\n",
       "      <td>29416</td>\n",
       "      <td>44472.00</td>\n",
       "      <td>...</td>\n",
       "      <td>10496</td>\n",
       "      <td>2462.0</td>\n",
       "      <td>1845.0</td>\n",
       "      <td>5142.00</td>\n",
       "      <td>379.0000</td>\n",
       "      <td>130630.0</td>\n",
       "      <td>105151</td>\n",
       "      <td>149106</td>\n",
       "      <td>149053.0</td>\n",
       "      <td>149056</td>\n",
       "    </tr>\n",
       "  </tbody>\n",
       "</table>\n",
       "<p>4 rows × 38 columns</p>\n",
       "</div>"
      ],
      "text/plain": [
       "       Unnamed: 0 Unnamed: 1      Temp        Hi       Low     Out       Dew  \\\n",
       "count      165493     165493  165493.0  165493.0  165493.0  165493  165493.0   \n",
       "unique       1153        289     374.0     376.0     371.0     101     224.0   \n",
       "top      05/02/20      16:50      15.8      15.9      15.8      89      13.5   \n",
       "freq          191       1151    2002.0    1987.0    2038.0   10137    2591.0   \n",
       "\n",
       "            Wind  Wind.1     Wind.2  ...      In     In .1     In .2  \\\n",
       "count   165493.0  165493  165493.00  ...  165493  165493.0  165493.0   \n",
       "unique      26.0      18      33.00  ...      77     303.0     459.0   \n",
       "top          0.9      SW       0.54  ...      53      14.7      23.8   \n",
       "freq     44477.0   29416   44472.00  ...   10496    2462.0    1845.0   \n",
       "\n",
       "            In .3       In Air  Unnamed: 33  Wind.4  Wind.5      ISS     Arc.  \n",
       "count   165493.00  165493.0000     165493.0  165493  165493  165493.0  165493  \n",
       "unique    1005.00    1697.0000         51.0     200       4     182.0       4  \n",
       "top          9.65       1.1737          0.0     234       1     100.0      10  \n",
       "freq      5142.00     379.0000     130630.0  105151  149106  149053.0  149056  \n",
       "\n",
       "[4 rows x 38 columns]"
      ]
     },
     "execution_count": 9,
     "metadata": {},
     "output_type": "execute_result"
    }
   ],
   "source": [
    "df.describe()"
   ]
  },
  {
   "cell_type": "code",
   "execution_count": 10,
   "id": "58ea07ff-8482-4414-afac-3341df2411c1",
   "metadata": {},
   "outputs": [
    {
     "data": {
      "text/plain": [
       "Index(['Unnamed: 0', 'Unnamed: 1', 'Temp', 'Hi', 'Low', 'Out', 'Dew', 'Wind',\n",
       "       'Wind.1', 'Wind.2', 'Hi.1', 'Hi.2', 'Wind.3', 'Heat', 'THW', 'THSW',\n",
       "       'Unnamed: 16', 'Unnamed: 17', 'Rain', 'Solar', 'Solar.1', 'Hi Solar',\n",
       "       'UV ', 'UV .1', 'Hi ', 'Heat.1', 'Cool', 'In ', 'In', 'In .1', 'In .2',\n",
       "       'In .3', 'In Air', 'Unnamed: 33', 'Wind.4', 'Wind.5', 'ISS ', 'Arc.'],\n",
       "      dtype='object')"
      ]
     },
     "execution_count": 10,
     "metadata": {},
     "output_type": "execute_result"
    }
   ],
   "source": [
    "df.columns"
   ]
  },
  {
   "cell_type": "code",
   "execution_count": 11,
   "id": "ec3434da-577e-4b0b-8f43-01c9cd901599",
   "metadata": {},
   "outputs": [],
   "source": [
    "sel_cols = ['Unnamed: 0','Unnamed: 1','Temp','Solar']"
   ]
  },
  {
   "cell_type": "code",
   "execution_count": 12,
   "id": "a7e19d75-a18b-4619-88d7-3a8ab35fde18",
   "metadata": {},
   "outputs": [],
   "source": [
    "data = df[sel_cols].copy()\n",
    "data = data[1:].reset_index(drop=True)\n",
    "sel_cols_newname = ['Date','Time','Temp','SolarRad']\n",
    "data.columns = sel_cols_newname\n",
    "\n",
    "data['DateTime'] = pd.to_datetime(data['Date']+' '+data['Time'],format='%d/%m/%y %H:%M')\n",
    "\n",
    "#data['Temp']=data['Temp'].astype('float64')\n",
    "#data['SolarRad']=data['SolarRad'].astype('int64')"
   ]
  },
  {
   "cell_type": "code",
   "execution_count": 13,
   "id": "124cf6db-af59-4219-b5d8-a6cd2c1fe600",
   "metadata": {},
   "outputs": [],
   "source": [
    "\n",
    "#data['Date']+' '+data['Time']"
   ]
  },
  {
   "cell_type": "code",
   "execution_count": 14,
   "id": "bce64518-8b57-4141-8b08-56e402925143",
   "metadata": {},
   "outputs": [],
   "source": [
    "#pd.to_datetime(data['Date']+' '+data['Time'],format='%d/%m/%y %H:%M')"
   ]
  },
  {
   "cell_type": "code",
   "execution_count": 15,
   "id": "a4a39bbf-b866-421f-b72f-3400dd45e597",
   "metadata": {},
   "outputs": [
    {
     "data": {
      "text/html": [
       "<div>\n",
       "<style scoped>\n",
       "    .dataframe tbody tr th:only-of-type {\n",
       "        vertical-align: middle;\n",
       "    }\n",
       "\n",
       "    .dataframe tbody tr th {\n",
       "        vertical-align: top;\n",
       "    }\n",
       "\n",
       "    .dataframe thead th {\n",
       "        text-align: right;\n",
       "    }\n",
       "</style>\n",
       "<table border=\"1\" class=\"dataframe\">\n",
       "  <thead>\n",
       "    <tr style=\"text-align: right;\">\n",
       "      <th></th>\n",
       "      <th>Date</th>\n",
       "      <th>Time</th>\n",
       "      <th>Temp</th>\n",
       "      <th>SolarRad</th>\n",
       "      <th>DateTime</th>\n",
       "    </tr>\n",
       "  </thead>\n",
       "  <tbody>\n",
       "    <tr>\n",
       "      <th>6500</th>\n",
       "      <td>27/11/19</td>\n",
       "      <td>14:20</td>\n",
       "      <td>22.8</td>\n",
       "      <td>154</td>\n",
       "      <td>2019-11-27 14:20:00</td>\n",
       "    </tr>\n",
       "    <tr>\n",
       "      <th>6501</th>\n",
       "      <td>27/11/19</td>\n",
       "      <td>14:30</td>\n",
       "      <td>22.6</td>\n",
       "      <td>142</td>\n",
       "      <td>2019-11-27 14:30:00</td>\n",
       "    </tr>\n",
       "    <tr>\n",
       "      <th>6502</th>\n",
       "      <td>27/11/19</td>\n",
       "      <td>14:40</td>\n",
       "      <td>22.1</td>\n",
       "      <td>95</td>\n",
       "      <td>2019-11-27 14:40:00</td>\n",
       "    </tr>\n",
       "    <tr>\n",
       "      <th>6503</th>\n",
       "      <td>27/11/19</td>\n",
       "      <td>14:50</td>\n",
       "      <td>21.9</td>\n",
       "      <td>77</td>\n",
       "      <td>2019-11-27 14:50:00</td>\n",
       "    </tr>\n",
       "    <tr>\n",
       "      <th>6504</th>\n",
       "      <td>27/11/19</td>\n",
       "      <td>15:00</td>\n",
       "      <td>21.6</td>\n",
       "      <td>64</td>\n",
       "      <td>2019-11-27 15:00:00</td>\n",
       "    </tr>\n",
       "    <tr>\n",
       "      <th>6505</th>\n",
       "      <td>27/11/19</td>\n",
       "      <td>15:10</td>\n",
       "      <td>21.4</td>\n",
       "      <td>48</td>\n",
       "      <td>2019-11-27 15:10:00</td>\n",
       "    </tr>\n",
       "    <tr>\n",
       "      <th>6506</th>\n",
       "      <td>27/11/19</td>\n",
       "      <td>15:20</td>\n",
       "      <td>21.4</td>\n",
       "      <td>46</td>\n",
       "      <td>2019-11-27 15:20:00</td>\n",
       "    </tr>\n",
       "    <tr>\n",
       "      <th>6507</th>\n",
       "      <td>27/11/19</td>\n",
       "      <td>16:26</td>\n",
       "      <td>---</td>\n",
       "      <td>---</td>\n",
       "      <td>2019-11-27 16:26:00</td>\n",
       "    </tr>\n",
       "    <tr>\n",
       "      <th>6508</th>\n",
       "      <td>27/11/19</td>\n",
       "      <td>16:30</td>\n",
       "      <td>20.6</td>\n",
       "      <td>18</td>\n",
       "      <td>2019-11-27 16:30:00</td>\n",
       "    </tr>\n",
       "    <tr>\n",
       "      <th>6509</th>\n",
       "      <td>27/11/19</td>\n",
       "      <td>16:40</td>\n",
       "      <td>20.4</td>\n",
       "      <td>17</td>\n",
       "      <td>2019-11-27 16:40:00</td>\n",
       "    </tr>\n",
       "    <tr>\n",
       "      <th>6510</th>\n",
       "      <td>27/11/19</td>\n",
       "      <td>16:50</td>\n",
       "      <td>20.4</td>\n",
       "      <td>18</td>\n",
       "      <td>2019-11-27 16:50:00</td>\n",
       "    </tr>\n",
       "  </tbody>\n",
       "</table>\n",
       "</div>"
      ],
      "text/plain": [
       "          Date   Time  Temp SolarRad            DateTime\n",
       "6500  27/11/19  14:20  22.8      154 2019-11-27 14:20:00\n",
       "6501  27/11/19  14:30  22.6      142 2019-11-27 14:30:00\n",
       "6502  27/11/19  14:40  22.1       95 2019-11-27 14:40:00\n",
       "6503  27/11/19  14:50  21.9       77 2019-11-27 14:50:00\n",
       "6504  27/11/19  15:00  21.6       64 2019-11-27 15:00:00\n",
       "6505  27/11/19  15:10  21.4       48 2019-11-27 15:10:00\n",
       "6506  27/11/19  15:20  21.4       46 2019-11-27 15:20:00\n",
       "6507  27/11/19  16:26   ---      --- 2019-11-27 16:26:00\n",
       "6508  27/11/19  16:30  20.6       18 2019-11-27 16:30:00\n",
       "6509  27/11/19  16:40  20.4       17 2019-11-27 16:40:00\n",
       "6510  27/11/19  16:50  20.4       18 2019-11-27 16:50:00"
      ]
     },
     "execution_count": 15,
     "metadata": {},
     "output_type": "execute_result"
    }
   ],
   "source": [
    "data[6500:6511]"
   ]
  },
  {
   "cell_type": "code",
   "execution_count": 16,
   "id": "f0c3836f-e303-4cb6-8904-3d57c9022fec",
   "metadata": {},
   "outputs": [
    {
     "name": "stdout",
     "output_type": "stream",
     "text": [
      "---\n",
      "---\n",
      "---\n",
      "---\n",
      "Num Huecos:  4\n"
     ]
    }
   ],
   "source": [
    "contHueco=0\n",
    "for e in data.Temp:\n",
    "    try:\n",
    "        float(e)\n",
    "    except:\n",
    "        print(e)\n",
    "        contHueco=contHueco+1\n",
    "print(\"Num Huecos: \", contHueco)"
   ]
  },
  {
   "cell_type": "code",
   "execution_count": 17,
   "id": "ddb5b73b-7bd1-4504-a1d8-99ad6a2b7a23",
   "metadata": {},
   "outputs": [
    {
     "name": "stdout",
     "output_type": "stream",
     "text": [
      "---\n",
      "---\n",
      "---\n",
      "---\n",
      "Num Huecos:  4\n"
     ]
    }
   ],
   "source": [
    "\n",
    "contHueco=0\n",
    "for e in data.SolarRad:\n",
    "    try:\n",
    "        float(e)\n",
    "    except:\n",
    "        print(e)\n",
    "        contHueco=contHueco+1\n",
    "print(\"Num Huecos: \", contHueco)"
   ]
  },
  {
   "cell_type": "code",
   "execution_count": 18,
   "id": "b05ddf69-2110-42b0-9137-e12fc8db3cda",
   "metadata": {},
   "outputs": [
    {
     "data": {
      "text/html": [
       "<div>\n",
       "<style scoped>\n",
       "    .dataframe tbody tr th:only-of-type {\n",
       "        vertical-align: middle;\n",
       "    }\n",
       "\n",
       "    .dataframe tbody tr th {\n",
       "        vertical-align: top;\n",
       "    }\n",
       "\n",
       "    .dataframe thead th {\n",
       "        text-align: right;\n",
       "    }\n",
       "</style>\n",
       "<table border=\"1\" class=\"dataframe\">\n",
       "  <thead>\n",
       "    <tr style=\"text-align: right;\">\n",
       "      <th></th>\n",
       "      <th>Date</th>\n",
       "      <th>Time</th>\n",
       "      <th>Temp</th>\n",
       "      <th>SolarRad</th>\n",
       "      <th>DateTime</th>\n",
       "    </tr>\n",
       "  </thead>\n",
       "  <tbody>\n",
       "    <tr>\n",
       "      <th>6507</th>\n",
       "      <td>27/11/19</td>\n",
       "      <td>16:26</td>\n",
       "      <td>---</td>\n",
       "      <td>---</td>\n",
       "      <td>2019-11-27 16:26:00</td>\n",
       "    </tr>\n",
       "    <tr>\n",
       "      <th>72557</th>\n",
       "      <td>28/02/21</td>\n",
       "      <td>14:00</td>\n",
       "      <td>---</td>\n",
       "      <td>---</td>\n",
       "      <td>2021-02-28 14:00:00</td>\n",
       "    </tr>\n",
       "    <tr>\n",
       "      <th>76002</th>\n",
       "      <td>24/03/21</td>\n",
       "      <td>12:50</td>\n",
       "      <td>---</td>\n",
       "      <td>---</td>\n",
       "      <td>2021-03-24 12:50:00</td>\n",
       "    </tr>\n",
       "    <tr>\n",
       "      <th>107947</th>\n",
       "      <td>01/11/21</td>\n",
       "      <td>12:32</td>\n",
       "      <td>---</td>\n",
       "      <td>---</td>\n",
       "      <td>2021-11-01 12:32:00</td>\n",
       "    </tr>\n",
       "  </tbody>\n",
       "</table>\n",
       "</div>"
      ],
      "text/plain": [
       "            Date   Time Temp SolarRad            DateTime\n",
       "6507    27/11/19  16:26  ---      --- 2019-11-27 16:26:00\n",
       "72557   28/02/21  14:00  ---      --- 2021-02-28 14:00:00\n",
       "76002   24/03/21  12:50  ---      --- 2021-03-24 12:50:00\n",
       "107947  01/11/21  12:32  ---      --- 2021-11-01 12:32:00"
      ]
     },
     "execution_count": 18,
     "metadata": {},
     "output_type": "execute_result"
    }
   ],
   "source": [
    "data[data['Temp']=='---']"
   ]
  },
  {
   "cell_type": "code",
   "execution_count": 19,
   "id": "512ee9af-c799-40a1-b43f-d9dcf2f81f78",
   "metadata": {},
   "outputs": [
    {
     "data": {
      "text/html": [
       "<div>\n",
       "<style scoped>\n",
       "    .dataframe tbody tr th:only-of-type {\n",
       "        vertical-align: middle;\n",
       "    }\n",
       "\n",
       "    .dataframe tbody tr th {\n",
       "        vertical-align: top;\n",
       "    }\n",
       "\n",
       "    .dataframe thead th {\n",
       "        text-align: right;\n",
       "    }\n",
       "</style>\n",
       "<table border=\"1\" class=\"dataframe\">\n",
       "  <thead>\n",
       "    <tr style=\"text-align: right;\">\n",
       "      <th></th>\n",
       "      <th>Date</th>\n",
       "      <th>Time</th>\n",
       "      <th>Temp</th>\n",
       "      <th>SolarRad</th>\n",
       "      <th>DateTime</th>\n",
       "    </tr>\n",
       "  </thead>\n",
       "  <tbody>\n",
       "    <tr>\n",
       "      <th>6507</th>\n",
       "      <td>27/11/19</td>\n",
       "      <td>16:26</td>\n",
       "      <td>---</td>\n",
       "      <td>---</td>\n",
       "      <td>2019-11-27 16:26:00</td>\n",
       "    </tr>\n",
       "    <tr>\n",
       "      <th>72557</th>\n",
       "      <td>28/02/21</td>\n",
       "      <td>14:00</td>\n",
       "      <td>---</td>\n",
       "      <td>---</td>\n",
       "      <td>2021-02-28 14:00:00</td>\n",
       "    </tr>\n",
       "    <tr>\n",
       "      <th>76002</th>\n",
       "      <td>24/03/21</td>\n",
       "      <td>12:50</td>\n",
       "      <td>---</td>\n",
       "      <td>---</td>\n",
       "      <td>2021-03-24 12:50:00</td>\n",
       "    </tr>\n",
       "    <tr>\n",
       "      <th>107947</th>\n",
       "      <td>01/11/21</td>\n",
       "      <td>12:32</td>\n",
       "      <td>---</td>\n",
       "      <td>---</td>\n",
       "      <td>2021-11-01 12:32:00</td>\n",
       "    </tr>\n",
       "  </tbody>\n",
       "</table>\n",
       "</div>"
      ],
      "text/plain": [
       "            Date   Time Temp SolarRad            DateTime\n",
       "6507    27/11/19  16:26  ---      --- 2019-11-27 16:26:00\n",
       "72557   28/02/21  14:00  ---      --- 2021-02-28 14:00:00\n",
       "76002   24/03/21  12:50  ---      --- 2021-03-24 12:50:00\n",
       "107947  01/11/21  12:32  ---      --- 2021-11-01 12:32:00"
      ]
     },
     "execution_count": 19,
     "metadata": {},
     "output_type": "execute_result"
    }
   ],
   "source": [
    "\n",
    "data[data['SolarRad']=='---']"
   ]
  },
  {
   "cell_type": "code",
   "execution_count": 20,
   "id": "6b0c2fdf-8435-4d67-9f56-2eedfa6bed67",
   "metadata": {},
   "outputs": [
    {
     "name": "stdout",
     "output_type": "stream",
     "text": [
      "# de Registros:  165492\n",
      "# de Registros en Multiplos de 10 minut:  165330  << >>  99.90211007178594 %\n",
      "# De Reg. no mult. de 10 en minutos:  162\n"
     ]
    }
   ],
   "source": [
    "print(\"# de Registros: \",data.shape[0])\n",
    "print(\"# de Registros en Multiplos de 10 minut: \",data[data.DateTime.dt.minute%10==0].shape[0], \" << >> \" ,data[data.DateTime.dt.minute%10==0].shape[0]*100/data.shape[0],\"%\" )\n",
    "print(\"# De Reg. no mult. de 10 en minutos: \", data.shape[0]-data[data.DateTime.dt.minute%10==0].shape[0])"
   ]
  },
  {
   "cell_type": "code",
   "execution_count": null,
   "id": "cbca7136-6531-4c1b-bb92-974e0056029c",
   "metadata": {},
   "outputs": [],
   "source": []
  },
  {
   "cell_type": "markdown",
   "id": "1983a844-d780-430d-9a5a-9c012212ae21",
   "metadata": {},
   "source": [
    "## 2.1 Elimiando Datos no registrados y anomalias (No Multiplos de 10min.)"
   ]
  },
  {
   "cell_type": "code",
   "execution_count": 21,
   "id": "6154ab78-45dd-40dd-bc86-efd08243f9de",
   "metadata": {},
   "outputs": [
    {
     "data": {
      "text/html": [
       "<div>\n",
       "<style scoped>\n",
       "    .dataframe tbody tr th:only-of-type {\n",
       "        vertical-align: middle;\n",
       "    }\n",
       "\n",
       "    .dataframe tbody tr th {\n",
       "        vertical-align: top;\n",
       "    }\n",
       "\n",
       "    .dataframe thead th {\n",
       "        text-align: right;\n",
       "    }\n",
       "</style>\n",
       "<table border=\"1\" class=\"dataframe\">\n",
       "  <thead>\n",
       "    <tr style=\"text-align: right;\">\n",
       "      <th></th>\n",
       "      <th>Date</th>\n",
       "      <th>Time</th>\n",
       "      <th>Temp</th>\n",
       "      <th>SolarRad</th>\n",
       "      <th>DateTime</th>\n",
       "    </tr>\n",
       "  </thead>\n",
       "  <tbody>\n",
       "    <tr>\n",
       "      <th>6507</th>\n",
       "      <td>27/11/19</td>\n",
       "      <td>16:26</td>\n",
       "      <td>---</td>\n",
       "      <td>---</td>\n",
       "      <td>2019-11-27 16:26:00</td>\n",
       "    </tr>\n",
       "    <tr>\n",
       "      <th>11598</th>\n",
       "      <td>02/01/20</td>\n",
       "      <td>8:36</td>\n",
       "      <td>21.2</td>\n",
       "      <td>49</td>\n",
       "      <td>2020-01-02 08:36:00</td>\n",
       "    </tr>\n",
       "    <tr>\n",
       "      <th>11611</th>\n",
       "      <td>02/01/20</td>\n",
       "      <td>10:42</td>\n",
       "      <td>23.8</td>\n",
       "      <td>184</td>\n",
       "      <td>2020-01-02 10:42:00</td>\n",
       "    </tr>\n",
       "    <tr>\n",
       "      <th>11627</th>\n",
       "      <td>02/01/20</td>\n",
       "      <td>13:22</td>\n",
       "      <td>27.2</td>\n",
       "      <td>469</td>\n",
       "      <td>2020-01-02 13:22:00</td>\n",
       "    </tr>\n",
       "    <tr>\n",
       "      <th>11658</th>\n",
       "      <td>02/01/20</td>\n",
       "      <td>18:43</td>\n",
       "      <td>24.8</td>\n",
       "      <td>5</td>\n",
       "      <td>2020-01-02 18:43:00</td>\n",
       "    </tr>\n",
       "    <tr>\n",
       "      <th>...</th>\n",
       "      <td>...</td>\n",
       "      <td>...</td>\n",
       "      <td>...</td>\n",
       "      <td>...</td>\n",
       "      <td>...</td>\n",
       "    </tr>\n",
       "    <tr>\n",
       "      <th>107947</th>\n",
       "      <td>01/11/21</td>\n",
       "      <td>12:32</td>\n",
       "      <td>---</td>\n",
       "      <td>---</td>\n",
       "      <td>2021-11-01 12:32:00</td>\n",
       "    </tr>\n",
       "    <tr>\n",
       "      <th>111287</th>\n",
       "      <td>24/11/21</td>\n",
       "      <td>17:11</td>\n",
       "      <td>20.1</td>\n",
       "      <td>36</td>\n",
       "      <td>2021-11-24 17:11:00</td>\n",
       "    </tr>\n",
       "    <tr>\n",
       "      <th>121053</th>\n",
       "      <td>31/01/22</td>\n",
       "      <td>12:51</td>\n",
       "      <td>27.4</td>\n",
       "      <td>402</td>\n",
       "      <td>2022-01-31 12:51:00</td>\n",
       "    </tr>\n",
       "    <tr>\n",
       "      <th>122060</th>\n",
       "      <td>07/02/22</td>\n",
       "      <td>12:43</td>\n",
       "      <td>27.0</td>\n",
       "      <td>1049</td>\n",
       "      <td>2022-02-07 12:43:00</td>\n",
       "    </tr>\n",
       "    <tr>\n",
       "      <th>144045</th>\n",
       "      <td>11/07/22</td>\n",
       "      <td>22:33</td>\n",
       "      <td>15.6</td>\n",
       "      <td>0</td>\n",
       "      <td>2022-07-11 22:33:00</td>\n",
       "    </tr>\n",
       "  </tbody>\n",
       "</table>\n",
       "<p>162 rows × 5 columns</p>\n",
       "</div>"
      ],
      "text/plain": [
       "            Date   Time  Temp SolarRad            DateTime\n",
       "6507    27/11/19  16:26   ---      --- 2019-11-27 16:26:00\n",
       "11598   02/01/20   8:36  21.2       49 2020-01-02 08:36:00\n",
       "11611   02/01/20  10:42  23.8      184 2020-01-02 10:42:00\n",
       "11627   02/01/20  13:22  27.2      469 2020-01-02 13:22:00\n",
       "11658   02/01/20  18:43  24.8        5 2020-01-02 18:43:00\n",
       "...          ...    ...   ...      ...                 ...\n",
       "107947  01/11/21  12:32   ---      --- 2021-11-01 12:32:00\n",
       "111287  24/11/21  17:11  20.1       36 2021-11-24 17:11:00\n",
       "121053  31/01/22  12:51  27.4      402 2022-01-31 12:51:00\n",
       "122060  07/02/22  12:43  27.0     1049 2022-02-07 12:43:00\n",
       "144045  11/07/22  22:33  15.6        0 2022-07-11 22:33:00\n",
       "\n",
       "[162 rows x 5 columns]"
      ]
     },
     "execution_count": 21,
     "metadata": {},
     "output_type": "execute_result"
    }
   ],
   "source": [
    "data[data.DateTime.dt.minute%10!=0].sort_values(by='DateTime',ascending=True)"
   ]
  },
  {
   "cell_type": "code",
   "execution_count": 22,
   "id": "4cf6e8d4-bdcc-4995-87cc-5b27793e0a00",
   "metadata": {},
   "outputs": [],
   "source": [
    "data = data[data.DateTime.dt.minute%10==0].reset_index(drop=True).copy()"
   ]
  },
  {
   "cell_type": "code",
   "execution_count": 23,
   "id": "d21383dd-5fed-42bc-9271-46db54329a5c",
   "metadata": {},
   "outputs": [],
   "source": [
    "data = data[data['Temp']!='---'].copy()\n",
    "data = data[data['SolarRad']!='---'].copy()\n"
   ]
  },
  {
   "cell_type": "code",
   "execution_count": 24,
   "id": "f5a537e5-7e45-43da-a00a-c8a23e73f460",
   "metadata": {},
   "outputs": [],
   "source": [
    "\n",
    "\n",
    "### Formateando los valores\n",
    "data['Temp']=data['Temp'].astype('float64')\n",
    "data['SolarRad']=data['SolarRad'].astype('float64')"
   ]
  },
  {
   "cell_type": "code",
   "execution_count": 25,
   "id": "d329de78-fe8a-498c-9292-c0afbe6c67e9",
   "metadata": {},
   "outputs": [],
   "source": [
    "data=data.reset_index(drop=True)"
   ]
  },
  {
   "cell_type": "code",
   "execution_count": null,
   "id": "2ce32ce7-05ed-4669-a8b3-6e92ffcd23cf",
   "metadata": {},
   "outputs": [],
   "source": []
  },
  {
   "cell_type": "code",
   "execution_count": 26,
   "id": "103292a3-e488-4d74-ac88-446be20f5901",
   "metadata": {},
   "outputs": [
    {
     "data": {
      "text/plain": [
       "Timestamp('2019-10-13 11:10:00')"
      ]
     },
     "execution_count": 26,
     "metadata": {},
     "output_type": "execute_result"
    }
   ],
   "source": [
    "data.loc[1,'DateTime']"
   ]
  },
  {
   "cell_type": "code",
   "execution_count": 27,
   "id": "3df94d84-5a9e-4c44-a416-f51ff21b4eda",
   "metadata": {},
   "outputs": [],
   "source": [
    "##data.DateTime[1] - data.DateTime[0]"
   ]
  },
  {
   "cell_type": "code",
   "execution_count": 28,
   "id": "6e890978-ab15-4dbc-917d-77c5640ed321",
   "metadata": {},
   "outputs": [],
   "source": [
    "\n",
    "#data.DateTime[3] - data.DateTime[2]  == data.DateTime[1] - data.DateTime[0]"
   ]
  },
  {
   "cell_type": "code",
   "execution_count": 29,
   "id": "ab1d17e9-642f-4d68-a138-b9584ed51b7d",
   "metadata": {},
   "outputs": [
    {
     "name": "stdout",
     "output_type": "stream",
     "text": [
      "saltos de no 10min:  132\n"
     ]
    }
   ],
   "source": [
    "contSaltos = 0\n",
    "cont=0\n",
    "list_index=[]\n",
    "for i in range(1,data.shape[0]):\n",
    "    cont=0\n",
    "    if data.loc[i,'DateTime'] - data.loc[i-1,'DateTime'] == (data.loc[1,'DateTime'] - data.loc[0,'DateTime']):\n",
    "        cont=cont+1\n",
    "    if cont==0:\n",
    "        #print(contSaltos,data.DateTime[i], data.DateTime[i-1] )\n",
    "        contSaltos=contSaltos+1\n",
    "        list_index.append(i-1)\n",
    "        list_index.append(i)\n",
    "print(\"saltos de no 10min: \",contSaltos)"
   ]
  },
  {
   "cell_type": "code",
   "execution_count": 30,
   "id": "1921d4a8-817b-4eb2-ac7b-291559838ec7",
   "metadata": {},
   "outputs": [
    {
     "data": {
      "text/html": [
       "<div>\n",
       "<style scoped>\n",
       "    .dataframe tbody tr th:only-of-type {\n",
       "        vertical-align: middle;\n",
       "    }\n",
       "\n",
       "    .dataframe tbody tr th {\n",
       "        vertical-align: top;\n",
       "    }\n",
       "\n",
       "    .dataframe thead th {\n",
       "        text-align: right;\n",
       "    }\n",
       "</style>\n",
       "<table border=\"1\" class=\"dataframe\">\n",
       "  <thead>\n",
       "    <tr style=\"text-align: right;\">\n",
       "      <th></th>\n",
       "      <th>Date</th>\n",
       "      <th>Time</th>\n",
       "      <th>Temp</th>\n",
       "      <th>SolarRad</th>\n",
       "      <th>DateTime</th>\n",
       "    </tr>\n",
       "  </thead>\n",
       "  <tbody>\n",
       "    <tr>\n",
       "      <th>72400</th>\n",
       "      <td>28/02/21</td>\n",
       "      <td>8:30</td>\n",
       "      <td>25.8</td>\n",
       "      <td>490.0</td>\n",
       "      <td>2021-02-28 08:30:00</td>\n",
       "    </tr>\n",
       "    <tr>\n",
       "      <th>72401</th>\n",
       "      <td>28/02/21</td>\n",
       "      <td>8:40</td>\n",
       "      <td>26.2</td>\n",
       "      <td>506.0</td>\n",
       "      <td>2021-02-28 08:40:00</td>\n",
       "    </tr>\n",
       "    <tr>\n",
       "      <th>72402</th>\n",
       "      <td>28/02/21</td>\n",
       "      <td>8:50</td>\n",
       "      <td>26.2</td>\n",
       "      <td>514.0</td>\n",
       "      <td>2021-02-28 08:50:00</td>\n",
       "    </tr>\n",
       "    <tr>\n",
       "      <th>72403</th>\n",
       "      <td>28/02/21</td>\n",
       "      <td>14:10</td>\n",
       "      <td>29.3</td>\n",
       "      <td>823.0</td>\n",
       "      <td>2021-02-28 14:10:00</td>\n",
       "    </tr>\n",
       "    <tr>\n",
       "      <th>72404</th>\n",
       "      <td>28/02/21</td>\n",
       "      <td>14:20</td>\n",
       "      <td>29.5</td>\n",
       "      <td>837.0</td>\n",
       "      <td>2021-02-28 14:20:00</td>\n",
       "    </tr>\n",
       "    <tr>\n",
       "      <th>72405</th>\n",
       "      <td>28/02/21</td>\n",
       "      <td>14:30</td>\n",
       "      <td>29.7</td>\n",
       "      <td>747.0</td>\n",
       "      <td>2021-02-28 14:30:00</td>\n",
       "    </tr>\n",
       "  </tbody>\n",
       "</table>\n",
       "</div>"
      ],
      "text/plain": [
       "           Date   Time  Temp  SolarRad            DateTime\n",
       "72400  28/02/21   8:30  25.8     490.0 2021-02-28 08:30:00\n",
       "72401  28/02/21   8:40  26.2     506.0 2021-02-28 08:40:00\n",
       "72402  28/02/21   8:50  26.2     514.0 2021-02-28 08:50:00\n",
       "72403  28/02/21  14:10  29.3     823.0 2021-02-28 14:10:00\n",
       "72404  28/02/21  14:20  29.5     837.0 2021-02-28 14:20:00\n",
       "72405  28/02/21  14:30  29.7     747.0 2021-02-28 14:30:00"
      ]
     },
     "execution_count": 30,
     "metadata": {},
     "output_type": "execute_result"
    }
   ],
   "source": [
    "data.loc[72400:72405]"
   ]
  },
  {
   "cell_type": "code",
   "execution_count": 31,
   "id": "0849161c-0b1e-4333-8b15-8cfa9c8f9cd4",
   "metadata": {},
   "outputs": [],
   "source": [
    "#data.DateTime[4110]-data.DateTime[4109]"
   ]
  },
  {
   "cell_type": "code",
   "execution_count": 32,
   "id": "eb353736-2f61-4b16-8da7-05c9d51a591f",
   "metadata": {},
   "outputs": [
    {
     "data": {
      "text/html": [
       "<div>\n",
       "<style scoped>\n",
       "    .dataframe tbody tr th:only-of-type {\n",
       "        vertical-align: middle;\n",
       "    }\n",
       "\n",
       "    .dataframe tbody tr th {\n",
       "        vertical-align: top;\n",
       "    }\n",
       "\n",
       "    .dataframe thead th {\n",
       "        text-align: right;\n",
       "    }\n",
       "</style>\n",
       "<table border=\"1\" class=\"dataframe\">\n",
       "  <thead>\n",
       "    <tr style=\"text-align: right;\">\n",
       "      <th></th>\n",
       "      <th>Date</th>\n",
       "      <th>Time</th>\n",
       "      <th>Temp</th>\n",
       "      <th>SolarRad</th>\n",
       "      <th>DateTime</th>\n",
       "    </tr>\n",
       "  </thead>\n",
       "  <tbody>\n",
       "    <tr>\n",
       "      <th>6506</th>\n",
       "      <td>27/11/19</td>\n",
       "      <td>15:20</td>\n",
       "      <td>21.4</td>\n",
       "      <td>46.0</td>\n",
       "      <td>2019-11-27 15:20:00</td>\n",
       "    </tr>\n",
       "    <tr>\n",
       "      <th>6507</th>\n",
       "      <td>27/11/19</td>\n",
       "      <td>16:30</td>\n",
       "      <td>20.6</td>\n",
       "      <td>18.0</td>\n",
       "      <td>2019-11-27 16:30:00</td>\n",
       "    </tr>\n",
       "    <tr>\n",
       "      <th>9519</th>\n",
       "      <td>18/12/19</td>\n",
       "      <td>14:30</td>\n",
       "      <td>26.2</td>\n",
       "      <td>455.0</td>\n",
       "      <td>2019-12-18 14:30:00</td>\n",
       "    </tr>\n",
       "    <tr>\n",
       "      <th>9520</th>\n",
       "      <td>18/12/19</td>\n",
       "      <td>14:50</td>\n",
       "      <td>26.3</td>\n",
       "      <td>383.0</td>\n",
       "      <td>2019-12-18 14:50:00</td>\n",
       "    </tr>\n",
       "    <tr>\n",
       "      <th>11279</th>\n",
       "      <td>30/12/19</td>\n",
       "      <td>20:00</td>\n",
       "      <td>21.3</td>\n",
       "      <td>0.0</td>\n",
       "      <td>2019-12-30 20:00:00</td>\n",
       "    </tr>\n",
       "    <tr>\n",
       "      <th>...</th>\n",
       "      <td>...</td>\n",
       "      <td>...</td>\n",
       "      <td>...</td>\n",
       "      <td>...</td>\n",
       "      <td>...</td>\n",
       "    </tr>\n",
       "    <tr>\n",
       "      <th>140539</th>\n",
       "      <td>18/06/22</td>\n",
       "      <td>16:50</td>\n",
       "      <td>18.7</td>\n",
       "      <td>60.0</td>\n",
       "      <td>2022-06-18 16:50:00</td>\n",
       "    </tr>\n",
       "    <tr>\n",
       "      <th>143093</th>\n",
       "      <td>06/07/22</td>\n",
       "      <td>10:30</td>\n",
       "      <td>16.2</td>\n",
       "      <td>128.0</td>\n",
       "      <td>2022-07-06 10:30:00</td>\n",
       "    </tr>\n",
       "    <tr>\n",
       "      <th>143094</th>\n",
       "      <td>06/07/22</td>\n",
       "      <td>11:10</td>\n",
       "      <td>16.6</td>\n",
       "      <td>137.0</td>\n",
       "      <td>2022-07-06 11:10:00</td>\n",
       "    </tr>\n",
       "    <tr>\n",
       "      <th>143881</th>\n",
       "      <td>11/07/22</td>\n",
       "      <td>22:20</td>\n",
       "      <td>15.6</td>\n",
       "      <td>0.0</td>\n",
       "      <td>2022-07-11 22:20:00</td>\n",
       "    </tr>\n",
       "    <tr>\n",
       "      <th>143882</th>\n",
       "      <td>11/07/22</td>\n",
       "      <td>22:40</td>\n",
       "      <td>15.6</td>\n",
       "      <td>0.0</td>\n",
       "      <td>2022-07-11 22:40:00</td>\n",
       "    </tr>\n",
       "  </tbody>\n",
       "</table>\n",
       "<p>264 rows × 5 columns</p>\n",
       "</div>"
      ],
      "text/plain": [
       "            Date   Time  Temp  SolarRad            DateTime\n",
       "6506    27/11/19  15:20  21.4      46.0 2019-11-27 15:20:00\n",
       "6507    27/11/19  16:30  20.6      18.0 2019-11-27 16:30:00\n",
       "9519    18/12/19  14:30  26.2     455.0 2019-12-18 14:30:00\n",
       "9520    18/12/19  14:50  26.3     383.0 2019-12-18 14:50:00\n",
       "11279   30/12/19  20:00  21.3       0.0 2019-12-30 20:00:00\n",
       "...          ...    ...   ...       ...                 ...\n",
       "140539  18/06/22  16:50  18.7      60.0 2022-06-18 16:50:00\n",
       "143093  06/07/22  10:30  16.2     128.0 2022-07-06 10:30:00\n",
       "143094  06/07/22  11:10  16.6     137.0 2022-07-06 11:10:00\n",
       "143881  11/07/22  22:20  15.6       0.0 2022-07-11 22:20:00\n",
       "143882  11/07/22  22:40  15.6       0.0 2022-07-11 22:40:00\n",
       "\n",
       "[264 rows x 5 columns]"
      ]
     },
     "execution_count": 32,
     "metadata": {},
     "output_type": "execute_result"
    }
   ],
   "source": [
    "data.loc[list_index]"
   ]
  },
  {
   "cell_type": "code",
   "execution_count": null,
   "id": "cbb244a2-6bb5-425f-9117-3d411e1d3c46",
   "metadata": {},
   "outputs": [],
   "source": []
  },
  {
   "cell_type": "code",
   "execution_count": 33,
   "id": "db62094a-b517-4fec-8374-fbb419da0e99",
   "metadata": {},
   "outputs": [
    {
     "name": "stdout",
     "output_type": "stream",
     "text": [
      "# de Registros:  165328\n",
      "# de Registros en Multiplos de 10 minut:  27533  << >>  16.65356140520662 %\n",
      "# De Reg. no mult. de 10 en minutos:  137795\n"
     ]
    }
   ],
   "source": [
    "print(\"# de Registros: \",data.shape[0])\n",
    "print(\"# de Registros en Multiplos de 10 minut: \",data[data.DateTime.dt.minute==0].shape[0], \" << >> \" ,data[data.DateTime.dt.minute==0].shape[0]*100/data.shape[0],\"%\" )\n",
    "print(\"# De Reg. no mult. de 10 en minutos: \", data.shape[0]-data[data.DateTime.dt.minute==0].shape[0])"
   ]
  },
  {
   "cell_type": "code",
   "execution_count": 34,
   "id": "eb81feb7-c237-4b84-aa6d-a64b9026ee0c",
   "metadata": {},
   "outputs": [
    {
     "data": {
      "text/plain": [
       "0.07984031936127745"
      ]
     },
     "execution_count": 34,
     "metadata": {},
     "output_type": "execute_result"
    }
   ],
   "source": [
    "132*100/165330"
   ]
  },
  {
   "cell_type": "code",
   "execution_count": null,
   "id": "f1c2dbdc-dfd9-4088-8368-ad7106379ab0",
   "metadata": {},
   "outputs": [],
   "source": []
  },
  {
   "cell_type": "code",
   "execution_count": null,
   "id": "41ea0309-9523-464f-b30c-9ba3c41fb3c6",
   "metadata": {},
   "outputs": [],
   "source": []
  },
  {
   "cell_type": "code",
   "execution_count": 35,
   "id": "4bc4048e-4504-4499-828b-f44a25267da2",
   "metadata": {},
   "outputs": [
    {
     "data": {
      "image/png": "[encoded data removed]",
      "text/plain": [
       "<Figure size 1440x360 with 1 Axes>"
      ]
     },
     "metadata": {
      "needs_background": "light"
     },
     "output_type": "display_data"
    }
   ],
   "source": [
    "plt.figure(figsize=(20,5))\n",
    "sns.lineplot(data=data,x='DateTime',y='Temp')\n",
    "plt.show()"
   ]
  },
  {
   "cell_type": "code",
   "execution_count": 36,
   "id": "92dc0aed-64c5-44a1-93cb-3406a7c37529",
   "metadata": {},
   "outputs": [
    {
     "data": {
      "image/png": "[encoded data removed]",
      "text/plain": [
       "<Figure size 1440x360 with 1 Axes>"
      ]
     },
     "metadata": {
      "needs_background": "light"
     },
     "output_type": "display_data"
    }
   ],
   "source": [
    "\n",
    "plt.figure(figsize=(20,5))\n",
    "sns.lineplot(data=data,x='DateTime',y='SolarRad')\n",
    "plt.show()"
   ]
  },
  {
   "cell_type": "code",
   "execution_count": null,
   "id": "5ea8d71a-6549-4ce8-bbdb-eac53b818ea7",
   "metadata": {},
   "outputs": [],
   "source": [
    "\n"
   ]
  },
  {
   "cell_type": "code",
   "execution_count": 37,
   "id": "f6e980a4-703b-4190-84b3-2d8d3f3dc132",
   "metadata": {},
   "outputs": [
    {
     "data": {
      "text/plain": [
       "<AxesSubplot:xlabel='DateTime'>"
      ]
     },
     "execution_count": 37,
     "metadata": {},
     "output_type": "execute_result"
    },
    {
     "data": {
      "image/png": "[encoded data removed]",
      "text/plain": [
       "<Figure size 432x288 with 1 Axes>"
      ]
     },
     "metadata": {
      "needs_background": "light"
     },
     "output_type": "display_data"
    }
   ],
   "source": [
    "data.groupby([pd.Grouper(key='DateTime',freq='1W')])['Temp'].mean().plot()"
   ]
  },
  {
   "cell_type": "code",
   "execution_count": 38,
   "id": "bf5ca5fa-9644-4044-819a-72fe4afa6be8",
   "metadata": {},
   "outputs": [
    {
     "data": {
      "text/plain": [
       "<AxesSubplot:xlabel='DateTime'>"
      ]
     },
     "execution_count": 38,
     "metadata": {},
     "output_type": "execute_result"
    },
    {
     "data": {
      "image/png": "[encoded data removed]",
      "text/plain": [
       "<Figure size 432x288 with 1 Axes>"
      ]
     },
     "metadata": {
      "needs_background": "light"
     },
     "output_type": "display_data"
    }
   ],
   "source": [
    "data.groupby([pd.Grouper(key='DateTime',freq='1W')])['SolarRad'].mean().plot()"
   ]
  },
  {
   "cell_type": "code",
   "execution_count": null,
   "id": "30bb5c14-38b2-4e8d-9f35-83b2ca805351",
   "metadata": {},
   "outputs": [],
   "source": []
  },
  {
   "cell_type": "markdown",
   "id": "d1579189-8c0f-4843-a4b6-ec91c6a7d176",
   "metadata": {},
   "source": [
    "## 2.2 Dia Juliano"
   ]
  },
  {
   "cell_type": "code",
   "execution_count": 39,
   "id": "7959d8b8-ce00-440e-a03c-aeabf968e90c",
   "metadata": {},
   "outputs": [
    {
     "name": "stdout",
     "output_type": "stream",
     "text": [
      "<class 'pandas.core.frame.DataFrame'>\n",
      "RangeIndex: 165328 entries, 0 to 165327\n",
      "Data columns (total 5 columns):\n",
      " #   Column    Non-Null Count   Dtype         \n",
      "---  ------    --------------   -----         \n",
      " 0   Date      165328 non-null  object        \n",
      " 1   Time      165328 non-null  object        \n",
      " 2   Temp      165328 non-null  float64       \n",
      " 3   SolarRad  165328 non-null  float64       \n",
      " 4   DateTime  165328 non-null  datetime64[ns]\n",
      "dtypes: datetime64[ns](1), float64(2), object(2)\n",
      "memory usage: 6.3+ MB\n"
     ]
    }
   ],
   "source": [
    "data.info()"
   ]
  },
  {
   "cell_type": "code",
   "execution_count": 40,
   "id": "be5f2819-910b-4669-9041-b890f2678008",
   "metadata": {},
   "outputs": [],
   "source": [
    "from datetime import datetime\n",
    "day_of_year = datetime.now().timetuple().tm_yday"
   ]
  },
  {
   "cell_type": "code",
   "execution_count": 41,
   "id": "16dbceca",
   "metadata": {},
   "outputs": [
    {
     "data": {
      "text/plain": [
       "355"
      ]
     },
     "execution_count": 41,
     "metadata": {},
     "output_type": "execute_result"
    }
   ],
   "source": [
    "day_of_year"
   ]
  },
  {
   "cell_type": "code",
   "execution_count": 42,
   "id": "20727c0a",
   "metadata": {},
   "outputs": [
    {
     "data": {
      "text/html": [
       "<div>\n",
       "<style scoped>\n",
       "    .dataframe tbody tr th:only-of-type {\n",
       "        vertical-align: middle;\n",
       "    }\n",
       "\n",
       "    .dataframe tbody tr th {\n",
       "        vertical-align: top;\n",
       "    }\n",
       "\n",
       "    .dataframe thead th {\n",
       "        text-align: right;\n",
       "    }\n",
       "</style>\n",
       "<table border=\"1\" class=\"dataframe\">\n",
       "  <thead>\n",
       "    <tr style=\"text-align: right;\">\n",
       "      <th></th>\n",
       "      <th>Date</th>\n",
       "      <th>Time</th>\n",
       "      <th>Temp</th>\n",
       "      <th>SolarRad</th>\n",
       "      <th>DateTime</th>\n",
       "    </tr>\n",
       "  </thead>\n",
       "  <tbody>\n",
       "    <tr>\n",
       "      <th>0</th>\n",
       "      <td>13/10/19</td>\n",
       "      <td>11:00</td>\n",
       "      <td>18.3</td>\n",
       "      <td>112.0</td>\n",
       "      <td>2019-10-13 11:00:00</td>\n",
       "    </tr>\n",
       "    <tr>\n",
       "      <th>1</th>\n",
       "      <td>13/10/19</td>\n",
       "      <td>11:10</td>\n",
       "      <td>18.1</td>\n",
       "      <td>93.0</td>\n",
       "      <td>2019-10-13 11:10:00</td>\n",
       "    </tr>\n",
       "    <tr>\n",
       "      <th>2</th>\n",
       "      <td>13/10/19</td>\n",
       "      <td>11:20</td>\n",
       "      <td>18.2</td>\n",
       "      <td>95.0</td>\n",
       "      <td>2019-10-13 11:20:00</td>\n",
       "    </tr>\n",
       "    <tr>\n",
       "      <th>3</th>\n",
       "      <td>13/10/19</td>\n",
       "      <td>11:30</td>\n",
       "      <td>18.2</td>\n",
       "      <td>108.0</td>\n",
       "      <td>2019-10-13 11:30:00</td>\n",
       "    </tr>\n",
       "    <tr>\n",
       "      <th>4</th>\n",
       "      <td>13/10/19</td>\n",
       "      <td>11:40</td>\n",
       "      <td>18.1</td>\n",
       "      <td>136.0</td>\n",
       "      <td>2019-10-13 11:40:00</td>\n",
       "    </tr>\n",
       "  </tbody>\n",
       "</table>\n",
       "</div>"
      ],
      "text/plain": [
       "       Date   Time  Temp  SolarRad            DateTime\n",
       "0  13/10/19  11:00  18.3     112.0 2019-10-13 11:00:00\n",
       "1  13/10/19  11:10  18.1      93.0 2019-10-13 11:10:00\n",
       "2  13/10/19  11:20  18.2      95.0 2019-10-13 11:20:00\n",
       "3  13/10/19  11:30  18.2     108.0 2019-10-13 11:30:00\n",
       "4  13/10/19  11:40  18.1     136.0 2019-10-13 11:40:00"
      ]
     },
     "execution_count": 42,
     "metadata": {},
     "output_type": "execute_result"
    }
   ],
   "source": [
    "data.head()"
   ]
  },
  {
   "cell_type": "code",
   "execution_count": 43,
   "id": "e5c2ed1f",
   "metadata": {},
   "outputs": [],
   "source": [
    "def get_NumOfDayJulian(date):\n",
    "    return date.timetuple().tm_yday"
   ]
  },
  {
   "cell_type": "code",
   "execution_count": 44,
   "id": "41c5fba3",
   "metadata": {},
   "outputs": [
    {
     "name": "stderr",
     "output_type": "stream",
     "text": [
      "C:\\Users\\PABLO\\AppData\\Local\\Temp\\ipykernel_23352\\2485096067.py:2: UserWarning: Parsing '31/12/2022' in DD/MM/YYYY format. Provide format or specify infer_datetime_format=True for consistent parsing.\n",
      "  _tmp['fecha']=pd.to_datetime(_tmp['fecha'])\n",
      "C:\\Users\\PABLO\\AppData\\Local\\Temp\\ipykernel_23352\\2485096067.py:2: UserWarning: Parsing '31/12/2020' in DD/MM/YYYY format. Provide format or specify infer_datetime_format=True for consistent parsing.\n",
      "  _tmp['fecha']=pd.to_datetime(_tmp['fecha'])\n"
     ]
    },
    {
     "data": {
      "text/html": [
       "<div>\n",
       "<style scoped>\n",
       "    .dataframe tbody tr th:only-of-type {\n",
       "        vertical-align: middle;\n",
       "    }\n",
       "\n",
       "    .dataframe tbody tr th {\n",
       "        vertical-align: top;\n",
       "    }\n",
       "\n",
       "    .dataframe thead th {\n",
       "        text-align: right;\n",
       "    }\n",
       "</style>\n",
       "<table border=\"1\" class=\"dataframe\">\n",
       "  <thead>\n",
       "    <tr style=\"text-align: right;\">\n",
       "      <th></th>\n",
       "      <th>fecha</th>\n",
       "    </tr>\n",
       "  </thead>\n",
       "  <tbody>\n",
       "    <tr>\n",
       "      <th>0</th>\n",
       "      <td>2022-12-31</td>\n",
       "    </tr>\n",
       "    <tr>\n",
       "      <th>1</th>\n",
       "      <td>2020-12-31</td>\n",
       "    </tr>\n",
       "  </tbody>\n",
       "</table>\n",
       "</div>"
      ],
      "text/plain": [
       "       fecha\n",
       "0 2022-12-31\n",
       "1 2020-12-31"
      ]
     },
     "metadata": {},
     "output_type": "display_data"
    },
    {
     "data": {
      "text/plain": [
       "[365, 366]"
      ]
     },
     "metadata": {},
     "output_type": "display_data"
    }
   ],
   "source": [
    "_tmp=pd.DataFrame(['31/12/2022','31/12/2020'],columns=['fecha'])\n",
    "_tmp['fecha']=pd.to_datetime(_tmp['fecha'])\n",
    "display(_tmp)\n",
    "display([x.timetuple().tm_yday for x in _tmp['fecha']])"
   ]
  },
  {
   "cell_type": "code",
   "execution_count": 45,
   "id": "123fe9b1",
   "metadata": {},
   "outputs": [],
   "source": [
    "data['DayJulian'] = data['DateTime'].apply(get_NumOfDayJulian)"
   ]
  },
  {
   "cell_type": "code",
   "execution_count": 46,
   "id": "2ad8260d",
   "metadata": {},
   "outputs": [
    {
     "data": {
      "text/plain": [
       "0"
      ]
     },
     "execution_count": 46,
     "metadata": {},
     "output_type": "execute_result"
    }
   ],
   "source": [
    "data['DateTime'].isnull().sum()"
   ]
  },
  {
   "cell_type": "code",
   "execution_count": 47,
   "id": "a1079982",
   "metadata": {},
   "outputs": [
    {
     "data": {
      "text/plain": [
       "332    576\n",
       "325    576\n",
       "315    576\n",
       "316    576\n",
       "317    576\n",
       "      ... \n",
       "10     413\n",
       "59     401\n",
       "169    331\n",
       "168    291\n",
       "366    144\n",
       "Name: DayJulian, Length: 366, dtype: int64"
      ]
     },
     "execution_count": 47,
     "metadata": {},
     "output_type": "execute_result"
    }
   ],
   "source": [
    "data['DayJulian'].value_counts()"
   ]
  },
  {
   "cell_type": "code",
   "execution_count": 48,
   "id": "b4bc68ba",
   "metadata": {},
   "outputs": [
    {
     "data": {
      "text/html": [
       "<div>\n",
       "<style scoped>\n",
       "    .dataframe tbody tr th:only-of-type {\n",
       "        vertical-align: middle;\n",
       "    }\n",
       "\n",
       "    .dataframe tbody tr th {\n",
       "        vertical-align: top;\n",
       "    }\n",
       "\n",
       "    .dataframe thead th {\n",
       "        text-align: right;\n",
       "    }\n",
       "</style>\n",
       "<table border=\"1\" class=\"dataframe\">\n",
       "  <thead>\n",
       "    <tr style=\"text-align: right;\">\n",
       "      <th></th>\n",
       "      <th>Date</th>\n",
       "      <th>Time</th>\n",
       "      <th>Temp</th>\n",
       "      <th>SolarRad</th>\n",
       "      <th>DateTime</th>\n",
       "      <th>DayJulian</th>\n",
       "    </tr>\n",
       "  </thead>\n",
       "  <tbody>\n",
       "    <tr>\n",
       "      <th>11427</th>\n",
       "      <td>01/01/20</td>\n",
       "      <td>00:00</td>\n",
       "      <td>21.4</td>\n",
       "      <td>0.0</td>\n",
       "      <td>2020-01-01 00:00:00</td>\n",
       "      <td>1</td>\n",
       "    </tr>\n",
       "    <tr>\n",
       "      <th>11428</th>\n",
       "      <td>01/01/20</td>\n",
       "      <td>0:10</td>\n",
       "      <td>21.5</td>\n",
       "      <td>0.0</td>\n",
       "      <td>2020-01-01 00:10:00</td>\n",
       "      <td>1</td>\n",
       "    </tr>\n",
       "    <tr>\n",
       "      <th>11429</th>\n",
       "      <td>01/01/20</td>\n",
       "      <td>0:20</td>\n",
       "      <td>21.5</td>\n",
       "      <td>0.0</td>\n",
       "      <td>2020-01-01 00:20:00</td>\n",
       "      <td>1</td>\n",
       "    </tr>\n",
       "    <tr>\n",
       "      <th>11430</th>\n",
       "      <td>01/01/20</td>\n",
       "      <td>0:30</td>\n",
       "      <td>21.4</td>\n",
       "      <td>0.0</td>\n",
       "      <td>2020-01-01 00:30:00</td>\n",
       "      <td>1</td>\n",
       "    </tr>\n",
       "    <tr>\n",
       "      <th>11431</th>\n",
       "      <td>01/01/20</td>\n",
       "      <td>0:40</td>\n",
       "      <td>21.5</td>\n",
       "      <td>0.0</td>\n",
       "      <td>2020-01-01 00:40:00</td>\n",
       "      <td>1</td>\n",
       "    </tr>\n",
       "    <tr>\n",
       "      <th>...</th>\n",
       "      <td>...</td>\n",
       "      <td>...</td>\n",
       "      <td>...</td>\n",
       "      <td>...</td>\n",
       "      <td>...</td>\n",
       "      <td>...</td>\n",
       "    </tr>\n",
       "    <tr>\n",
       "      <th>116634</th>\n",
       "      <td>01/01/22</td>\n",
       "      <td>23:10</td>\n",
       "      <td>20.7</td>\n",
       "      <td>0.0</td>\n",
       "      <td>2022-01-01 23:10:00</td>\n",
       "      <td>1</td>\n",
       "    </tr>\n",
       "    <tr>\n",
       "      <th>116635</th>\n",
       "      <td>01/01/22</td>\n",
       "      <td>23:20</td>\n",
       "      <td>20.7</td>\n",
       "      <td>0.0</td>\n",
       "      <td>2022-01-01 23:20:00</td>\n",
       "      <td>1</td>\n",
       "    </tr>\n",
       "    <tr>\n",
       "      <th>116636</th>\n",
       "      <td>01/01/22</td>\n",
       "      <td>23:30</td>\n",
       "      <td>20.6</td>\n",
       "      <td>0.0</td>\n",
       "      <td>2022-01-01 23:30:00</td>\n",
       "      <td>1</td>\n",
       "    </tr>\n",
       "    <tr>\n",
       "      <th>116637</th>\n",
       "      <td>01/01/22</td>\n",
       "      <td>23:40</td>\n",
       "      <td>20.6</td>\n",
       "      <td>0.0</td>\n",
       "      <td>2022-01-01 23:40:00</td>\n",
       "      <td>1</td>\n",
       "    </tr>\n",
       "    <tr>\n",
       "      <th>116638</th>\n",
       "      <td>01/01/22</td>\n",
       "      <td>23:50</td>\n",
       "      <td>20.6</td>\n",
       "      <td>0.0</td>\n",
       "      <td>2022-01-01 23:50:00</td>\n",
       "      <td>1</td>\n",
       "    </tr>\n",
       "  </tbody>\n",
       "</table>\n",
       "<p>416 rows × 6 columns</p>\n",
       "</div>"
      ],
      "text/plain": [
       "            Date   Time  Temp  SolarRad            DateTime  DayJulian\n",
       "11427   01/01/20  00:00  21.4       0.0 2020-01-01 00:00:00          1\n",
       "11428   01/01/20   0:10  21.5       0.0 2020-01-01 00:10:00          1\n",
       "11429   01/01/20   0:20  21.5       0.0 2020-01-01 00:20:00          1\n",
       "11430   01/01/20   0:30  21.4       0.0 2020-01-01 00:30:00          1\n",
       "11431   01/01/20   0:40  21.5       0.0 2020-01-01 00:40:00          1\n",
       "...          ...    ...   ...       ...                 ...        ...\n",
       "116634  01/01/22  23:10  20.7       0.0 2022-01-01 23:10:00          1\n",
       "116635  01/01/22  23:20  20.7       0.0 2022-01-01 23:20:00          1\n",
       "116636  01/01/22  23:30  20.6       0.0 2022-01-01 23:30:00          1\n",
       "116637  01/01/22  23:40  20.6       0.0 2022-01-01 23:40:00          1\n",
       "116638  01/01/22  23:50  20.6       0.0 2022-01-01 23:50:00          1\n",
       "\n",
       "[416 rows x 6 columns]"
      ]
     },
     "execution_count": 48,
     "metadata": {},
     "output_type": "execute_result"
    }
   ],
   "source": [
    "data.loc[data['DayJulian']==1]"
   ]
  },
  {
   "cell_type": "code",
   "execution_count": 56,
   "id": "7525d1e0",
   "metadata": {},
   "outputs": [
    {
     "data": {
      "text/html": [
       "<div>\n",
       "<style scoped>\n",
       "    .dataframe tbody tr th:only-of-type {\n",
       "        vertical-align: middle;\n",
       "    }\n",
       "\n",
       "    .dataframe tbody tr th {\n",
       "        vertical-align: top;\n",
       "    }\n",
       "\n",
       "    .dataframe thead th {\n",
       "        text-align: right;\n",
       "    }\n",
       "</style>\n",
       "<table border=\"1\" class=\"dataframe\">\n",
       "  <thead>\n",
       "    <tr style=\"text-align: right;\">\n",
       "      <th></th>\n",
       "      <th>Date</th>\n",
       "      <th>Time</th>\n",
       "      <th>Temp</th>\n",
       "      <th>SolarRad</th>\n",
       "      <th>DateTime</th>\n",
       "      <th>DayJulian</th>\n",
       "    </tr>\n",
       "  </thead>\n",
       "  <tbody>\n",
       "    <tr>\n",
       "      <th>11550</th>\n",
       "      <td>01/01/20</td>\n",
       "      <td>23:00</td>\n",
       "      <td>22.1</td>\n",
       "      <td>0.0</td>\n",
       "      <td>2020-01-01 23:00:00</td>\n",
       "      <td>1</td>\n",
       "    </tr>\n",
       "    <tr>\n",
       "      <th>11551</th>\n",
       "      <td>01/01/20</td>\n",
       "      <td>23:10</td>\n",
       "      <td>22.0</td>\n",
       "      <td>0.0</td>\n",
       "      <td>2020-01-01 23:10:00</td>\n",
       "      <td>1</td>\n",
       "    </tr>\n",
       "    <tr>\n",
       "      <th>11552</th>\n",
       "      <td>01/01/20</td>\n",
       "      <td>23:20</td>\n",
       "      <td>21.9</td>\n",
       "      <td>0.0</td>\n",
       "      <td>2020-01-01 23:20:00</td>\n",
       "      <td>1</td>\n",
       "    </tr>\n",
       "    <tr>\n",
       "      <th>11553</th>\n",
       "      <td>01/01/20</td>\n",
       "      <td>23:30</td>\n",
       "      <td>21.8</td>\n",
       "      <td>0.0</td>\n",
       "      <td>2020-01-01 23:30:00</td>\n",
       "      <td>1</td>\n",
       "    </tr>\n",
       "    <tr>\n",
       "      <th>11554</th>\n",
       "      <td>01/01/20</td>\n",
       "      <td>23:40</td>\n",
       "      <td>21.8</td>\n",
       "      <td>0.0</td>\n",
       "      <td>2020-01-01 23:40:00</td>\n",
       "      <td>1</td>\n",
       "    </tr>\n",
       "    <tr>\n",
       "      <th>11555</th>\n",
       "      <td>02/01/20</td>\n",
       "      <td>1:30</td>\n",
       "      <td>21.3</td>\n",
       "      <td>0.0</td>\n",
       "      <td>2020-01-02 01:30:00</td>\n",
       "      <td>2</td>\n",
       "    </tr>\n",
       "    <tr>\n",
       "      <th>11556</th>\n",
       "      <td>02/01/20</td>\n",
       "      <td>1:40</td>\n",
       "      <td>21.3</td>\n",
       "      <td>0.0</td>\n",
       "      <td>2020-01-02 01:40:00</td>\n",
       "      <td>2</td>\n",
       "    </tr>\n",
       "    <tr>\n",
       "      <th>11557</th>\n",
       "      <td>02/01/20</td>\n",
       "      <td>1:50</td>\n",
       "      <td>21.3</td>\n",
       "      <td>0.0</td>\n",
       "      <td>2020-01-02 01:50:00</td>\n",
       "      <td>2</td>\n",
       "    </tr>\n",
       "    <tr>\n",
       "      <th>11558</th>\n",
       "      <td>02/01/20</td>\n",
       "      <td>2:00</td>\n",
       "      <td>21.3</td>\n",
       "      <td>0.0</td>\n",
       "      <td>2020-01-02 02:00:00</td>\n",
       "      <td>2</td>\n",
       "    </tr>\n",
       "    <tr>\n",
       "      <th>11559</th>\n",
       "      <td>02/01/20</td>\n",
       "      <td>2:10</td>\n",
       "      <td>21.3</td>\n",
       "      <td>0.0</td>\n",
       "      <td>2020-01-02 02:10:00</td>\n",
       "      <td>2</td>\n",
       "    </tr>\n",
       "  </tbody>\n",
       "</table>\n",
       "</div>"
      ],
      "text/plain": [
       "           Date   Time  Temp  SolarRad            DateTime  DayJulian\n",
       "11550  01/01/20  23:00  22.1       0.0 2020-01-01 23:00:00          1\n",
       "11551  01/01/20  23:10  22.0       0.0 2020-01-01 23:10:00          1\n",
       "11552  01/01/20  23:20  21.9       0.0 2020-01-01 23:20:00          1\n",
       "11553  01/01/20  23:30  21.8       0.0 2020-01-01 23:30:00          1\n",
       "11554  01/01/20  23:40  21.8       0.0 2020-01-01 23:40:00          1\n",
       "11555  02/01/20   1:30  21.3       0.0 2020-01-02 01:30:00          2\n",
       "11556  02/01/20   1:40  21.3       0.0 2020-01-02 01:40:00          2\n",
       "11557  02/01/20   1:50  21.3       0.0 2020-01-02 01:50:00          2\n",
       "11558  02/01/20   2:00  21.3       0.0 2020-01-02 02:00:00          2\n",
       "11559  02/01/20   2:10  21.3       0.0 2020-01-02 02:10:00          2"
      ]
     },
     "execution_count": 56,
     "metadata": {},
     "output_type": "execute_result"
    }
   ],
   "source": [
    "data[11550:11560]"
   ]
  },
  {
   "cell_type": "code",
   "execution_count": 57,
   "id": "ef708579-ec35-4032-b501-730dbc9d1674",
   "metadata": {},
   "outputs": [
    {
     "data": {
      "text/html": [
       "<div>\n",
       "<style scoped>\n",
       "    .dataframe tbody tr th:only-of-type {\n",
       "        vertical-align: middle;\n",
       "    }\n",
       "\n",
       "    .dataframe tbody tr th {\n",
       "        vertical-align: top;\n",
       "    }\n",
       "\n",
       "    .dataframe thead th {\n",
       "        text-align: right;\n",
       "    }\n",
       "</style>\n",
       "<table border=\"1\" class=\"dataframe\">\n",
       "  <thead>\n",
       "    <tr style=\"text-align: right;\">\n",
       "      <th></th>\n",
       "      <th>Date</th>\n",
       "      <th>Time</th>\n",
       "      <th>Temp</th>\n",
       "      <th>SolarRad</th>\n",
       "      <th>DateTime</th>\n",
       "      <th>DayJulian</th>\n",
       "    </tr>\n",
       "  </thead>\n",
       "  <tbody>\n",
       "    <tr>\n",
       "      <th>78</th>\n",
       "      <td>14/10/19</td>\n",
       "      <td>00:00</td>\n",
       "      <td>16.9</td>\n",
       "      <td>0.0</td>\n",
       "      <td>2019-10-14 00:00:00</td>\n",
       "      <td>287</td>\n",
       "    </tr>\n",
       "    <tr>\n",
       "      <th>79</th>\n",
       "      <td>14/10/19</td>\n",
       "      <td>0:10</td>\n",
       "      <td>16.8</td>\n",
       "      <td>0.0</td>\n",
       "      <td>2019-10-14 00:10:00</td>\n",
       "      <td>287</td>\n",
       "    </tr>\n",
       "    <tr>\n",
       "      <th>80</th>\n",
       "      <td>14/10/19</td>\n",
       "      <td>0:20</td>\n",
       "      <td>16.8</td>\n",
       "      <td>0.0</td>\n",
       "      <td>2019-10-14 00:20:00</td>\n",
       "      <td>287</td>\n",
       "    </tr>\n",
       "    <tr>\n",
       "      <th>81</th>\n",
       "      <td>14/10/19</td>\n",
       "      <td>0:30</td>\n",
       "      <td>16.8</td>\n",
       "      <td>0.0</td>\n",
       "      <td>2019-10-14 00:30:00</td>\n",
       "      <td>287</td>\n",
       "    </tr>\n",
       "    <tr>\n",
       "      <th>82</th>\n",
       "      <td>14/10/19</td>\n",
       "      <td>0:40</td>\n",
       "      <td>16.8</td>\n",
       "      <td>0.0</td>\n",
       "      <td>2019-10-14 00:40:00</td>\n",
       "      <td>287</td>\n",
       "    </tr>\n",
       "    <tr>\n",
       "      <th>...</th>\n",
       "      <td>...</td>\n",
       "      <td>...</td>\n",
       "      <td>...</td>\n",
       "      <td>...</td>\n",
       "      <td>...</td>\n",
       "      <td>...</td>\n",
       "    </tr>\n",
       "    <tr>\n",
       "      <th>165203</th>\n",
       "      <td>07/12/22</td>\n",
       "      <td>0:10</td>\n",
       "      <td>19.3</td>\n",
       "      <td>0.0</td>\n",
       "      <td>2022-12-07 00:10:00</td>\n",
       "      <td>341</td>\n",
       "    </tr>\n",
       "    <tr>\n",
       "      <th>165204</th>\n",
       "      <td>07/12/22</td>\n",
       "      <td>0:20</td>\n",
       "      <td>19.3</td>\n",
       "      <td>0.0</td>\n",
       "      <td>2022-12-07 00:20:00</td>\n",
       "      <td>341</td>\n",
       "    </tr>\n",
       "    <tr>\n",
       "      <th>165205</th>\n",
       "      <td>07/12/22</td>\n",
       "      <td>0:30</td>\n",
       "      <td>19.3</td>\n",
       "      <td>0.0</td>\n",
       "      <td>2022-12-07 00:30:00</td>\n",
       "      <td>341</td>\n",
       "    </tr>\n",
       "    <tr>\n",
       "      <th>165206</th>\n",
       "      <td>07/12/22</td>\n",
       "      <td>0:40</td>\n",
       "      <td>19.2</td>\n",
       "      <td>0.0</td>\n",
       "      <td>2022-12-07 00:40:00</td>\n",
       "      <td>341</td>\n",
       "    </tr>\n",
       "    <tr>\n",
       "      <th>165207</th>\n",
       "      <td>07/12/22</td>\n",
       "      <td>0:50</td>\n",
       "      <td>19.2</td>\n",
       "      <td>0.0</td>\n",
       "      <td>2022-12-07 00:50:00</td>\n",
       "      <td>341</td>\n",
       "    </tr>\n",
       "  </tbody>\n",
       "</table>\n",
       "<p>6886 rows × 6 columns</p>\n",
       "</div>"
      ],
      "text/plain": [
       "            Date   Time  Temp  SolarRad            DateTime  DayJulian\n",
       "78      14/10/19  00:00  16.9       0.0 2019-10-14 00:00:00        287\n",
       "79      14/10/19   0:10  16.8       0.0 2019-10-14 00:10:00        287\n",
       "80      14/10/19   0:20  16.8       0.0 2019-10-14 00:20:00        287\n",
       "81      14/10/19   0:30  16.8       0.0 2019-10-14 00:30:00        287\n",
       "82      14/10/19   0:40  16.8       0.0 2019-10-14 00:40:00        287\n",
       "...          ...    ...   ...       ...                 ...        ...\n",
       "165203  07/12/22   0:10  19.3       0.0 2022-12-07 00:10:00        341\n",
       "165204  07/12/22   0:20  19.3       0.0 2022-12-07 00:20:00        341\n",
       "165205  07/12/22   0:30  19.3       0.0 2022-12-07 00:30:00        341\n",
       "165206  07/12/22   0:40  19.2       0.0 2022-12-07 00:40:00        341\n",
       "165207  07/12/22   0:50  19.2       0.0 2022-12-07 00:50:00        341\n",
       "\n",
       "[6886 rows x 6 columns]"
      ]
     },
     "execution_count": 57,
     "metadata": {},
     "output_type": "execute_result"
    }
   ],
   "source": [
    "data[data['DateTime'].dt.hour==0]"
   ]
  },
  {
   "cell_type": "code",
   "execution_count": null,
   "id": "4ec7735b-1adf-4945-8832-0b6b9886ca48",
   "metadata": {},
   "outputs": [],
   "source": []
  }
 ],
 "metadata": {
  "kernelspec": {
   "display_name": "Python 3 (ipykernel)",
   "language": "python",
   "name": "python3"
  },
  "language_info": {
   "codemirror_mode": {
    "name": "ipython",
    "version": 3
   },
   "file_extension": ".py",
   "mimetype": "text/x-python",
   "name": "python",
   "nbconvert_exporter": "python",
   "pygments_lexer": "ipython3",
   "version": "3.9.12"
  }
 },
 "nbformat": 4,
 "nbformat_minor": 5
}
